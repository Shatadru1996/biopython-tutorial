{
 "cells": [
  {
   "cell_type": "code",
   "execution_count": 4,
   "metadata": {},
   "outputs": [],
   "source": [
    "from Bio import AlignIO\n",
    "_path = 'data/'\n",
    "alignment = AlignIO.read(_path + \"PF05356_seed.sth\", \"stockholm\")"
   ]
  },
  {
   "cell_type": "code",
   "execution_count": 5,
   "metadata": {},
   "outputs": [
    {
     "name": "stdout",
     "output_type": "stream",
     "text": [
      "Alignment with 69 rows and 64 columns\n",
      "LFMVTDAQAAALVAN------ITVTDIVDQLK--AGAPAIVSIA...GAL I3CK69_9GAMM/17-72\n",
      "LLFLSSWSVSATPFY------LVVDDVVDQIA--EGAFPVLAIG...GAM I3CE12_9GAMM/11-66\n",
      "SLLLFSGVASAAPIT------MDVSEVVDQIK--AAAVPILSVG...GAM I3CE11_9GAMM/21-76\n",
      "VTAALTLPAFAAAAQ------PDVTEVVAYIL--AGIATIALVG...GVL A0A328ZKQ2_9BURK/30-85\n",
      "LVLASPMALAQTGPT------IDVSSVTGFID-GQLIPGLGTIG...GAA A0A318DYR2_9GAMM/20-76\n",
      "LLLATSAMASSAFAE------IDVSAATTAIS-TDGSTAITAVG...GAI A0A081KB79_9GAMM/9-65\n",
      "LLVASALMSSSVFAA------IDISAATTALT-TDGSAAITAVG...GAI A0A081K835_9GAMM/9-65\n",
      "LAMGTVLSANAAATT------IDTTDVLLSIA--AAVVAIVAVG...AAM A0A1H0GMS3_9BURK/27-82\n",
      "LSTAAAFVGAQAQAA------IDVTAVGTEIE--AAGNAASSTG...GLI A0A1H4H7Y8_9GAMM/12-67\n",
      "LSGVALTVGAGLAHA------IDTTKVGASIT--AAETDALTTG...GIV A0A1I1EUT2_9GAMM/16-71\n",
      "AGFAANAPVFAADGQ------LDTTSVQAGID--AAKATGLSVG...GLV A0A261GG07_9GAMM/20-75\n",
      "TAVATATLVSATANA------EDLSSITGKINLKSASTGIVAVG...GFL Q7VLI9_HAEDU/13-70\n",
      "LVTAPALAFAEASTATS----FDVSAITGQISFASVAAGVIAIA...GMI A0A239SNN7_9BURK/21-80\n",
      "TGMAMSAVAFADDKI------PDASVVVSSLE--ALATPIAAVG...SLI A0A1T0CH46_9GAMM/17-72\n",
      "AGVVAASAVVANAAP------IDPAPVVSSIG--SNEPAVIAIG...RMM A0A433SGY4_9BURK/17-72\n",
      "AGSAMADAAGAPAST------IDTTAAVQQIN--GLTVGISAIG...GFV A0A494XB31_9BURK/17-72\n",
      "LASAGAFAADAGTPT------MDVTSVVASIN--GVGPNIVLVG...SFI Q63PM2_BURPS/11-66\n",
      "AAGASVGAFAQTPTGSGAT--FDTTAIVSSIN--NVAPAIVAVG...SFL A0A1I3G1F0_9BURK/24-83\n",
      "...\n",
      "VAMSAGIANANTPTA------PDLTPIVTMIT--GLASVVGSIG...TAF A0A1B8PL66_MORNO/32-87\n"
     ]
    }
   ],
   "source": [
    "print(alignment)"
   ]
  },
  {
   "cell_type": "code",
   "execution_count": null,
   "metadata": {},
   "outputs": [],
   "source": []
  }
 ],
 "metadata": {
  "interpreter": {
   "hash": "7dae6437c12b1d87f00e0e10a4bd22be66a3b8ec05fb1161d95372f28c39fa9e"
  },
  "kernelspec": {
   "display_name": "Python 3.8.8 64-bit ('base': conda)",
   "name": "python3"
  },
  "language_info": {
   "codemirror_mode": {
    "name": "ipython",
    "version": 3
   },
   "file_extension": ".py",
   "mimetype": "text/x-python",
   "name": "python",
   "nbconvert_exporter": "python",
   "pygments_lexer": "ipython3",
   "version": "3.8.8"
  },
  "orig_nbformat": 4
 },
 "nbformat": 4,
 "nbformat_minor": 2
}
