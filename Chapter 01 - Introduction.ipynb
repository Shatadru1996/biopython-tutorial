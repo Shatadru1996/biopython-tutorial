{
 "cells": [
  {
   "cell_type": "markdown",
   "metadata": {},
   "source": [
    "# Chapter 1: Introduction"
   ]
  },
  {
   "cell_type": "markdown",
   "metadata": {},
   "source": [
    "## 1.1 What is Biopython?\n",
    "\n",
    "The  Biopython  Project  is  an  international  association  of  developers  of  freely  available  Python  [https://www.python.org](https://www.python.org) tools for computational molecular biology.  Python is an object oriented, interpreted,flexible language that is becoming increasingly popular for scientific computing.  Python is easy to learn, hasa very clear syntax and can easily be extended with modules written in C, C++ or FORTRAN.The Biopython web site [http://www.biopython.org](http://www.biopython.org) provides an online resource for modules, scripts,and web links for developers of Python-based software for bioinformatics use and research.  Basically, thegoal of Biopython is to make it as easy as possible to use Python for bioinformatics by creating high-quality,reusable  modules  and  classes.   Biopython  features  include  parsers  for  various  Bioinformatics  file  formats(BLAST, Clustalw, FASTA, Genbank,...), access to online services (NCBI, Expasy,...), interfaces to commonand  not-so-common  programs  (Clustalw,  DSSP,  MSMS...),  a  standard  sequence  class,  various  clusteringmodules, a KD tree data structure etc.  and even documentation.Basically, we just like to program in Python and want to make it as easy as possible to use Python forbioinformatics by creating high-quality, reusable modules and scripts.1.2    What can I find in the Biopython packageThe main Biopython releases have lots of functionality, including:•The ability to parse bioinformatics files into Python utilizable data structures, including support forthe following formats:–Blast output – both from standalone and WWW Blast–Clustalw–FASTA–GenBank–PubMed and Medline–ExPASy files, like Enzyme and Prosite–SCOP, including ‘dom’ and ‘lin’ files–UniGene–SwissProt•Files in the supported formats can be iterated over record by record or indexed and accessed via aDictionary interface.9\n"
   ]
  },
  {
   "cell_type": "markdown",
   "metadata": {},
   "source": [
    "## 1.2    What can I find in the Biopython package\n",
    "The main Biopython releases have lots of functionality, including:\n",
    "- The ability to parse bioinformatics files into Python utilizable data structures, including support forthe following formats:\n",
    "  - Blast output – both from standalone and WWW Blast\n",
    "  - Clustalw\n",
    "  - FASTA\n",
    "  - GenBank\n",
    "  - PubMed and Medline\n",
    "  - ExPASy files, like Enzyme and Prosite\n",
    "  - SCOP, including ‘dom’ and ‘lin’ files\n",
    "  - UniGene\n",
    "  - SwissProt\n",
    "- Files in the supported formats can be iterated over record by record or indexed and accessed via aDictionary interface.\n",
    "-  Code to deal with popular on-line bioinformatics destinations such as:\n",
    "   -  NCBI - Blast, Entrez and PubMed services\n",
    "   -  –ExPASy – Swiss-Prot and Prosite entries, as well as Prosite searches\n",
    "- Interfaces to common bioinformatics programs such as:\n",
    "  - Standalone Blast from NCBI\n",
    "  - Clustalw alignment program\n",
    "  - EMBOSS command line tools\n",
    " - A standard sequence class that deals with sequences, ids on sequences, and sequence features.\n",
    " - Tools for performing common operations on sequences, such as translation, transcription and weightcalculations.•\n",
    " - Code  to  perform  classification  of  data  using  k  Nearest  Neighbors,  Naive  Bayes  or  Support  VectorMachines.\n",
    " - Code  for  dealing  with  alignments,  including  a  standard  way  to  create  and  deal  with  substitutionmatrices.\n",
    " - Code making it easy to split up parallelizable tasks into separate processes.•GUI-based programs to do basic sequence manipulations, translations, BLASTing, etc.\n",
    " - Extensive documentation and help with using the modules, including this file, on-line wiki documen-tation, the web site, and the mailing list.\n",
    " - Integration  with  BioSQL,  a  sequence  database  schema  also  supported  by  the  BioPerl  and  BioJavaprojects\n",
    "\n",
    "We hope this gives you plenty of reasons to download and start using Biopython!"
   ]
  },
  {
   "cell_type": "markdown",
   "metadata": {},
   "source": [
    "## 1.3   Installing Biopython\n",
    "Python includes the package management system \"pip\" which should allow you to install Biopython (and its dependency NumPy if needed), upgrade or uninstall with just one terminal command:"
   ]
  },
  {
   "cell_type": "code",
   "execution_count": 1,
   "metadata": {},
   "outputs": [
    {
     "name": "stdout",
     "output_type": "stream",
     "text": [
      "Requirement already satisfied: biopython in c:\\users\\recer\\anaconda3\\lib\\site-packages (1.79)\n",
      "Requirement already satisfied: numpy in c:\\users\\recer\\anaconda3\\lib\\site-packages (from biopython) (1.20.1)\n"
     ]
    }
   ],
   "source": [
    "#!pip install biopython\n",
    "!pip install --upgrade biopython\n",
    "#!pip uninstall biopython"
   ]
  },
  {
   "cell_type": "markdown",
   "metadata": {},
   "source": [
    "### How do I find out what version of Biopython I have installed?\n",
    "Use this:"
   ]
  },
  {
   "cell_type": "code",
   "execution_count": 2,
   "metadata": {},
   "outputs": [
    {
     "name": "stdout",
     "output_type": "stream",
     "text": [
      "1.79\n"
     ]
    }
   ],
   "source": [
    "import Bio\n",
    "print(Bio.__version__)"
   ]
  },
  {
   "cell_type": "code",
   "execution_count": null,
   "metadata": {},
   "outputs": [],
   "source": []
  }
 ],
 "metadata": {
  "interpreter": {
   "hash": "7dae6437c12b1d87f00e0e10a4bd22be66a3b8ec05fb1161d95372f28c39fa9e"
  },
  "kernelspec": {
   "display_name": "Python 3.8.8 64-bit ('base': conda)",
   "name": "python3"
  },
  "language_info": {
   "codemirror_mode": {
    "name": "ipython",
    "version": 3
   },
   "file_extension": ".py",
   "mimetype": "text/x-python",
   "name": "python",
   "nbconvert_exporter": "python",
   "pygments_lexer": "ipython3",
   "version": "3.8.8"
  },
  "orig_nbformat": 4
 },
 "nbformat": 4,
 "nbformat_minor": 2
}
